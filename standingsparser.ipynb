{
 "cells": [
  {
   "cell_type": "code",
   "execution_count": 35,
   "metadata": {
    "collapsed": true
   },
   "outputs": [],
   "source": [
    "import pdfminer\n",
    "from subprocess import call\n",
    "import fileinput\n",
    "import uuid\n",
    "import itertools\n",
    "import json\n",
    "import matplotlib.pyplot as plt\n",
    "%matplotlib inline"
   ]
  },
  {
   "cell_type": "code",
   "execution_count": 7,
   "metadata": {
    "collapsed": true
   },
   "outputs": [],
   "source": [
    "pdfname = 'standings.pdf'\n",
    "standings_out = 'standings.txt'\n",
    "standings_cleaned = 'cleanedstandings.txt'\n",
    "point_types = ['major', 'open', 'ladder', 'playoff', 'championship_seasonal', 'championship_world']"
   ]
  },
  {
   "cell_type": "code",
   "execution_count": 12,
   "metadata": {
    "collapsed": true
   },
   "outputs": [],
   "source": [
    "pdfname = 'lastcall.pdf'\n",
    "standings_out = 'lastcall.txt'\n",
    "standings_cleaned = 'cleanedlastcall.txt'\n",
    "point_types = ['major', 'open', 'ladder', 'playoff', 'championship_seasonal', 'championship_world']"
   ]
  },
  {
   "cell_type": "code",
   "execution_count": 13,
   "metadata": {
    "collapsed": true
   },
   "outputs": [],
   "source": [
    "def is_int(s):\n",
    "    try:\n",
    "        int(s)\n",
    "    except ValueError:\n",
    "        return False\n",
    "    return True"
   ]
  },
  {
   "cell_type": "code",
   "execution_count": 18,
   "metadata": {
    "collapsed": false
   },
   "outputs": [
    {
     "data": {
      "text/plain": [
       "0"
      ]
     },
     "execution_count": 18,
     "metadata": {},
     "output_type": "execute_result"
    }
   ],
   "source": [
    "#May have to modify pdf2txt.py to use unix line endings instead of windows endings\n",
    "call(['pdf2txt.py', '-o', standings_out,pdfname])"
   ]
  },
  {
   "cell_type": "code",
   "execution_count": 38,
   "metadata": {
    "collapsed": false
   },
   "outputs": [],
   "source": [
    "#DONT RUN THIS IF YOU CHANGED CLEANED STANDINGS MANUALLY\n",
    "#tr '\\f' '\\n' < standings.txt | sed '/^$/d' > cleanedstandings.txt\n",
    "#for line in fileinput.FileInput(\"standings1.txt\", inplace=True):\n",
    "text = ''\n",
    "for line in open(standings_out, 'r'):\n",
    "    if line.rstrip() and not line.startswith('This p') and \\\n",
    "        not line.startswith('comments, o') and not line.startswith('questions, c'):\n",
    "        if line[0]=='\\f':\n",
    "            line = line[1:]\n",
    "        arr = line.split()\n",
    "        if arr[0]=='-' and is_int(arr[1]):\n",
    "            text+=' '.join(arr[1:])+'\\n'\n",
    "        elif arr[1]=='Qualified':\n",
    "            continue\n",
    "        elif arr[1]!='has':\n",
    "            text = text[:-1] #Remove the newline and join with next line\n",
    "            text+=line\n",
    "        else:\n",
    "            text+=line\n",
    "with open(standings_cleaned, 'w') as out:\n",
    "    out.write(text)"
   ]
  },
  {
   "cell_type": "code",
   "execution_count": 21,
   "metadata": {
    "collapsed": true
   },
   "outputs": [],
   "source": [
    "regions = {}\n",
    "regions['AM'] = 'Americas'\n",
    "regions['AMERICAS'] = 'Americas'\n",
    "regions['EU'] = 'Europe'\n",
    "regions['EUROPE'] = 'Europe'\n",
    "regions['ASIA_PACIFIC'] = 'Asia-Pacific'\n",
    "regions['AP'] = 'Asia-Pacific'\n",
    "get_region = lambda x : regions[x.upper()]"
   ]
  },
  {
   "cell_type": "code",
   "execution_count": 26,
   "metadata": {
    "collapsed": false
   },
   "outputs": [],
   "source": [
    "user = None\n",
    "users = {}\n",
    "for line in open(standings_cleaned, 'r'):\n",
    "    if is_int(line.split()[0]):\n",
    "        if user is None:\n",
    "            raise ValueError('Invalid state')\n",
    "        else:\n",
    "            arr = line.split()\n",
    "            points = int(arr[0])\n",
    "            #Open win\n",
    "            if arr[4]=='placing':\n",
    "                tournament = ' '.join(arr[8:-2])\n",
    "                month = arr[-1]\n",
    "                \n",
    "                if arr[-3] == 'Playoffs':\n",
    "                    if arr[5]=='5th/8th' or arr[5]=='1st/4th':\n",
    "                        place = arr[5]\n",
    "                    else:\n",
    "                        place = ' '.join(arr[5:8])\n",
    "                        tournament = ' '.join(arr[10:-2])\n",
    "                    point_type = 'playoff'\n",
    "                elif 'Championship' in tournament:\n",
    "                    place = arr[5]\n",
    "                    point_type = 'championship_seasonal'\n",
    "                elif 'Dreamhack' in tournament or 'Major' in tournament or 'Copa America' in tournament:\n",
    "                    point_type = 'major'\n",
    "                    place = arr[5]\n",
    "                else:\n",
    "                    point_type = 'open'\n",
    "                    place = arr[5]\n",
    "                \n",
    "                point = {'type':point_type, 'points':points, 'place':place, 'tournament':tournament,\n",
    "                        'month':month}\n",
    "            elif arr[4]=='reaching':\n",
    "                point_type = 'ladder'\n",
    "                place = arr[5]\n",
    "                month = arr[-2]\n",
    "                server = get_region(arr[-1][1:-1])\n",
    "                point = {'type':point_type, 'points':points, 'rank':place,\n",
    "                        'month':month, 'server':server}\n",
    "            else:\n",
    "                raise ValueError('Invalid type')\n",
    "            user['breakdown'].append(point)\n",
    "    else:\n",
    "        if user is not None:\n",
    "            users[userId] = user\n",
    "        arr = line.split()\n",
    "        userId = uuid.uuid4()\n",
    "        username = arr[0]\n",
    "        points = int(arr[4])\n",
    "        if arr[9]=='Last':\n",
    "            season = arr[9:11]\n",
    "            region = arr[12][1:-1]\n",
    "        else:\n",
    "            season = arr[9]\n",
    "            region = arr[11][1:-1]\n",
    "        region = get_region(region)\n",
    "        breakdown = []\n",
    "        #user = {'name':username, 'userId':userId, 'points':points, 'season':season, 'region':region, \n",
    "        #        'breakdown': breakdown}\n",
    "        user = {'name':username, 'points':points, 'season':season, 'region':region, \n",
    "                'breakdown': breakdown}\n",
    "\n",
    "users[userId] = user"
   ]
  },
  {
   "cell_type": "code",
   "execution_count": 27,
   "metadata": {
    "collapsed": true
   },
   "outputs": [],
   "source": [
    "for user in users.values():\n",
    "    if user['points']!=sum([x['points'] for x in user['breakdown']]):\n",
    "        print(user['name'])"
   ]
  },
  {
   "cell_type": "code",
   "execution_count": 28,
   "metadata": {
    "collapsed": false
   },
   "outputs": [
    {
     "name": "stdout",
     "output_type": "stream",
     "text": [
      "Leaderboard for Americas\n",
      "1   muzzy          106\n",
      "2   Zalae          105\n",
      "3   amnesiasc      88\n",
      "4   Astrogation    86\n",
      "5   Apxvoid        80\n",
      "6   PNC            77\n",
      "7   Rase           76\n",
      "8   Monsanto       70\n",
      "9   killinallday   68\n",
      "10  rayC           67\n",
      "11  Cydonia        66\n",
      "12  DrJikininki    64\n",
      "13  seohyun628     60\n",
      "14  Tarei          60\n",
      "15  Fr0zen         59\n",
      "16  Nalguidan      59\n",
      "17  Qwerty97       57\n",
      "18  baenugget      57\n",
      "19  Kuonet         56\n",
      "20  Rosty          55\n",
      "21  yoitsflo       55\n",
      "22  noblord        55\n",
      "23  Teebs          53\n",
      "24  pksnow         53\n",
      "25  Fibonacci      52\n",
      "26  WoT            52\n",
      "27  Stark          52\n",
      "28  Fenom          51\n",
      "29  Th3RaT         51\n",
      "30  justsaiyan     51\n",
      "31  shoop          50\n",
      "32  topopablo11    50\n",
      "33  Rpbalance      49\n",
      "34  Pinche         48\n",
      "35  Ant            46\n",
      "36  Villain        46\n",
      "37  Echn2          46\n",
      "38  Cheese         46\n",
      "39  lnguagehackr   45\n",
      "40  leadpaint      45\n",
      "41  CelticGuard    45\n",
      "42  Vlps           45\n",
      "43  Korextron      45\n",
      "44  Alan870806     44\n",
      "45  DerpyTroller   43\n",
      "46  Luker          43\n",
      "47  zlsjs          43\n",
      "48  Leoric         43\n",
      "49  HotMEOWTH      43\n",
      "50  dog            43\n",
      "51  TerrenceM      42\n",
      "52  SilentStorm    42\n",
      "53  BestInWorld    42\n",
      "54  Chakki         42\n",
      "55  UchihaSaske    42\n",
      "56  Thelast        42\n",
      "57  caravaggio8    41\n",
      "58  ninelie        41\n",
      "59  Talion         41\n",
      "60  DiegoDias      41\n",
      "61  Rage           40\n",
      "62  Nostam         40\n",
      "63  JuzamDjinn     40\n",
      "64  vcT            40\n",
      "65  Purple         40\n",
      "66  Coglorin       40\n",
      "67  TaftsBathtub   39\n",
      "68  Tincho         39\n",
      "69  Lemurian       39\n",
      "70  SPeCiaLiST     39\n",
      "71  NescauBR       39\n",
      "72  daninja        39\n",
      "73  Alpha          39\n",
      "74  Guiyze         39\n",
      "75  dude7597       38\n",
      "76  Doubtless      38\n",
      "77  Leomane        37\n",
      "78  Damon          37\n",
      "79  StrifeCro      37\n",
      "80  RadamD         37\n",
      "81  AGTDanny       37\n",
      "82  Ike            36\n",
      "83  Lucas          36\n",
      "84  Trump          36\n",
      "85  Gladen99       36\n",
      "86  EllenPage      36\n",
      "87  CmaccompH      36\n",
      "88  Casual         36\n",
      "89  cowboys367     36\n",
      "90  Neobility      35\n",
      "91  Fishyyy        35\n",
      "92  joster         35\n",
      "93  SwaggyG        35\n",
      "94  BLS4GAME       34\n",
      "95  DocPwn         34\n",
      "96  Gallon         33\n",
      "97  icer           33\n",
      "98  Empanizado     33\n",
      "99  Zeni           33\n",
      "100 ESOGloktaF2P   32\n",
      "Leaderboard for Europe\n",
      "1   Sintolol       118\n",
      "2   Jarla          100\n",
      "3   Tyler          94\n",
      "4   Kycoo          92\n",
      "5   Juristis       82\n",
      "6   Hoej           82\n",
      "7   Powder         79\n",
      "8   hunterace      78\n",
      "9   Kolento        76\n",
      "10  ThijsNL        74\n",
      "11  RastaFish      74\n",
      "12  Seiko          72\n",
      "13  FibEli3        72\n",
      "14  kolmari        72\n",
      "15  tholwmenos     72\n",
      "16  Viper          71\n",
      "17  Janetzky       71\n",
      "18  Rdu            70\n",
      "19  Twink          69\n",
      "20  pokrovac       69\n",
      "21  INER           68\n",
      "22  Casie          68\n",
      "23  Maverick       67\n",
      "24  Bozzzton       67\n",
      "25  unwi2          67\n",
      "26  Neirea         67\n",
      "27  Ostkaka        66\n",
      "28  Bunnyhoppor    66\n",
      "29  Zananananan    66\n",
      "30  Pavel          66\n",
      "31  Fenomeno       65\n",
      "32  Xixo           64\n",
      "33  GreenSheep     63\n",
      "34  zumpp          63\n",
      "35  Weghuz         63\n",
      "36  Orange         62\n",
      "37  Savvat1        62\n",
      "38  Tuttek         62\n",
      "39  Loyan          62\n",
      "40  Lektron        62\n",
      "41  Nicslay        61\n",
      "42  Glaser         61\n",
      "43  Swidz          60\n",
      "44  J4YOU          60\n",
      "45  wiRer          59\n",
      "46  Картошечка     58\n",
      "47  Senfglas       58\n",
      "48  Trebzilla      58\n",
      "49  espumito       58\n",
      "50  Felkeine       57\n",
      "51  sjow           56\n",
      "52  Naiman         56\n",
      "53  Devou          56\n",
      "54  DenimBlue7     56\n",
      "55  Windello       56\n",
      "56  StanCifka      55\n",
      "57  Odemian        55\n",
      "58  Nagato         54\n",
      "59  Allad          54\n",
      "60  Iniven         54\n",
      "61  zridex         54\n",
      "62  NoName         54\n",
      "63  Theo           54\n",
      "64  eko            53\n",
      "65  Hawkeye        53\n",
      "66  Kalàxz         53\n",
      "67  Dizdemon       52\n",
      "68  Vinz           52\n",
      "69  AKAWonder      52\n",
      "70  Lucken         52\n",
      "71  Gaara          51\n",
      "72  tidsskrift     51\n",
      "73  GameKing       50\n",
      "74  Crane333       50\n",
      "75  Xzirez         50\n",
      "76  gété           50\n",
      "77  Glasnost       49\n",
      "78  freddykuhl     48\n",
      "79  Rikitikitavi   48\n",
      "80  SteveFrench    48\n",
      "81  Un33D          48\n",
      "82  ШтанУдачи      47\n",
      "83  berserkci      47\n",
      "84  TicTac         47\n",
      "85  RENMEN         47\n",
      "86  Maur1          46\n",
      "87  Janos          46\n",
      "88  SomiTequila    45\n",
      "89  Duck           45\n",
      "90  s8ris          45\n",
      "91  Mitsuhide      45\n",
      "92  ntR            45\n",
      "93  noSalvati0n    45\n",
      "94  Melon          45\n",
      "95  Wichmaster     44\n",
      "96  Guntofire      44\n",
      "97  YouKnowWP      44\n",
      "98  Dethelor       44\n",
      "99  Laughing       44\n",
      "100 TheViper94     44\n",
      "Leaderboard for Asia-Pacific\n",
      "1   tom60229       102\n",
      "2   香菇奾汁           74\n",
      "3   Pinpingho      71\n",
      "4   aqua           70\n",
      "5   신명수            70\n",
      "6   Surrender      70\n",
      "7   strikeright    68\n",
      "8   blitzchung     68\n",
      "9   Kranich        67\n",
      "10  b787           66\n",
      "11  posesi         66\n",
      "12  Virtual        65\n",
      "13  tuttu          64\n",
      "14  Tansoku        61\n",
      "15  honbee         60\n",
      "16  nukesaku       59\n",
      "17  GingaNinja     58\n",
      "18  BGIOU          58\n",
      "19  撒旦降臨           58\n",
      "20  Che0nsu        58\n",
      "21  glory          57\n",
      "22  Gogongsing     57\n",
      "23  짙은핑크           56\n",
      "24  fire           56\n",
      "25  Yulsic         55\n",
      "26  크리보            55\n",
      "27  JhongTin       55\n",
      "28  FroStee        55\n",
      "29  えんちゃび          54\n",
      "30  Tredsred       54\n",
      "31  CitizenNappa   54\n",
      "32  Neal           53\n",
      "33  DDaHyoNi       53\n",
      "34  ahqRoger       53\n",
      "35  로좀             52\n",
      "36  사나이담담          52\n",
      "37  Mage           51\n",
      "38  cropher        51\n",
      "39  katsucurry     51\n",
      "40  matuko         51\n",
      "41  Volcano        50\n",
      "42  kevin          50\n",
      "43  lynx           50\n",
      "44  Misplaced      50\n",
      "45  Ghost          50\n",
      "46  horo           50\n",
      "47  mattun         49\n",
      "48  Zarathustra    49\n",
      "49  hone           48\n",
      "50  XiaoDai        48\n",
      "51  saba           48\n",
      "52  GundamFlame    47\n",
      "53  Foot           47\n",
      "54  Ender          47\n",
      "55  Gyong          47\n",
      "56  タコ3            47\n",
      "57  ahqWeiFu       47\n",
      "58  clownJP        46\n",
      "59  takas          46\n",
      "60  gcttirth       46\n",
      "61  Malza          45\n",
      "62  NAGON          45\n",
      "63  Pavean         45\n",
      "64  ryvius         45\n",
      "65  hush           45\n",
      "66  Steelo         44\n",
      "67  patoyao        44\n",
      "68  pride1st       43\n",
      "69  TeamAyu        43\n",
      "70  Duelist        43\n",
      "71  Machamp        43\n",
      "72  civila         42\n",
      "73  チンピラ           41\n",
      "74  WaningMoon     40\n",
      "75  Portia         40\n",
      "76  발레스트라          39\n",
      "77  Bao            39\n",
      "78  ユウキ・テルミ        38\n",
      "79  SamuelTsao     38\n",
      "80  Redsox         38\n",
      "81  crataris       38\n",
      "82  Ombre          38\n",
      "83  Muramatsu      38\n",
      "84  camel          37\n",
      "85  KillerHero     37\n",
      "86  Law            37\n",
      "87  Artefy         36\n",
      "88  아이윾            35\n",
      "89  handsomegay    35\n",
      "90  ACCESSSS       35\n",
      "91  ExonaToR       35\n",
      "92  TheOneJack     35\n",
      "93  uya            35\n",
      "94  山下智久           34\n",
      "95  Taeyeon        34\n",
      "96  Staz           34\n",
      "97  Linken         34\n",
      "98  Ke1            34\n",
      "99  NaviOOT        34\n",
      "100 Aaron          33\n"
     ]
    }
   ],
   "source": [
    "regionFilter = lambda region: lambda user: user['region']==region\n",
    "for region in ['Americas', 'Europe', 'Asia-Pacific']:\n",
    "    filtered = list(filter(regionFilter(region), users.values()))\n",
    "    filtered.sort(key=lambda user:-user['points'])\n",
    "    num_users = 100\n",
    "    filtered = filtered[:num_users]\n",
    "    print('Leaderboard for {}'.format(region))\n",
    "    \n",
    "    count = 0\n",
    "    for i, user in enumerate(filtered):\n",
    "        print('{:<4}{:<15}{}'.format(i+1, user['name'], user['points']))"
   ]
  },
  {
   "cell_type": "code",
   "execution_count": 41,
   "metadata": {
    "collapsed": false
   },
   "outputs": [],
   "source": [
    "regionFilter = lambda region: lambda user: user['region']==region\n",
    "for region in ['Americas', 'Europe', 'Asia-Pacific']:\n",
    "    num_users = 64\n",
    "    filtered = list(filter(regionFilter(region), users.values()))\n",
    "    filtered.sort(key=lambda user:-user['points'])\n",
    "    point_cutoff = filtered[num_users-1]['points']\n",
    "    filtered = list(filter(lambda x:x['points']>=point_cutoff, filtered))\n",
    "    with open('top64{}.json'.format(region),'w', encoding='utf-8') as f:\n",
    "        f.write(json.dumps(filtered, ensure_ascii=False))"
   ]
  },
  {
   "cell_type": "code",
   "execution_count": 40,
   "metadata": {
    "collapsed": false
   },
   "outputs": [
    {
     "name": "stdout",
     "output_type": "stream",
     "text": [
      "Server Americas had 2989 legend players in Nov\n",
      "Server Americas had 6059 legend players in Dec\n",
      "Server Americas had 3241 legend players in Jan\n",
      "Server Americas had 1729 legend players in Feb\n",
      "Server Americas had 5251 legend players in Mar\n",
      "Server Americas had 12107 legend players in Apr\n",
      "Server Americas had 6166 legend players in May\n",
      "Server Americas had 3479 legend players in June\n",
      "Server Americas had 3218 legend players in July\n",
      "Server Europe had 8599 legend players in Nov\n",
      "Server Europe had 12679 legend players in Dec\n",
      "Server Europe had 8364 legend players in Jan\n",
      "Server Europe had 4592 legend players in Feb\n",
      "Server Europe had 13235 legend players in Mar\n",
      "Server Europe had 27250 legend players in Apr\n",
      "Server Europe had 15568 legend players in May\n",
      "Server Europe had 8306 legend players in June\n",
      "Server Europe had 7740 legend players in July\n",
      "Server Asia-Pacific had 3413 legend players in Nov\n",
      "Server Asia-Pacific had 6068 legend players in Dec\n",
      "Server Asia-Pacific had 3424 legend players in Jan\n",
      "Server Asia-Pacific had 1790 legend players in Feb\n",
      "Server Asia-Pacific had 5593 legend players in Mar\n",
      "Server Asia-Pacific had 12493 legend players in Apr\n",
      "Server Asia-Pacific had 8325 legend players in May\n",
      "Server Asia-Pacific had 4863 legend players in June\n",
      "Server Asia-Pacific had 4233 legend players in July\n"
     ]
    }
   ],
   "source": [
    "counts = {}\n",
    "for user in users.values():\n",
    "    for point in user['breakdown']:\n",
    "        if point['type']=='ladder':\n",
    "            key = (point['server'], point['month'])\n",
    "            if key not in counts:\n",
    "                counts[key] = 0\n",
    "            counts[key]+=1\n",
    "regions = ['Americas', 'Europe', 'Asia-Pacific']\n",
    "months = ['Nov','Dec', 'Jan','Feb','Mar','Apr','May','June', 'July']\n",
    "for x in itertools.product(regions, months):\n",
    "    print('Server {} had {} legend players in {}'.format(x[0],counts[x],x[1]))"
   ]
  },
  {
   "cell_type": "code",
   "execution_count": 43,
   "metadata": {
    "collapsed": false
   },
   "outputs": [
    {
     "name": "stdout",
     "output_type": "stream",
     "text": [
      "Of the top 104 players from Americas\n",
      "An average of 3.1346153846153846 opens did not count\n",
      "Of the top 100 players from Europe\n",
      "An average of 3.41 opens did not count\n",
      "Of the top 104 players from Asia-Pacific\n",
      "An average of 1.6346153846153846 opens did not count\n"
     ]
    }
   ],
   "source": [
    "regionFilter = lambda region: lambda user: user['region']==region\n",
    "for region in ['Americas', 'Europe', 'Asia-Pacific']:\n",
    "    filtered = list(filter(regionFilter(region), users.values()))\n",
    "    filtered.sort(key=lambda user:-user['points'])\n",
    "    num_users = 100\n",
    "    point_cutoff = filtered[num_users-1]['points']\n",
    "    filtered = list(filter(lambda x:x['points']>=point_cutoff, filtered))\n",
    "    print('Of the top {} players from {}'.format(len(filtered), region))\n",
    "    count = 0\n",
    "    for user in filtered:\n",
    "        count+=len(list(filter(lambda x:x['type']=='open' and x['points']==0, user['breakdown'])))\n",
    "    print('An average of {} opens did not count'.format(count/len(filtered)))"
   ]
  },
  {
   "cell_type": "code",
   "execution_count": 44,
   "metadata": {
    "collapsed": false,
    "scrolled": true
   },
   "outputs": [
    {
     "name": "stdout",
     "output_type": "stream",
     "text": [
      "155 players from Americas finished on Americas\n",
      "4 players from Americas finished on Europe\n",
      "7 players from Americas finished on Asia-Pacific\n",
      "60 players from Europe finished on Americas\n",
      "276 players from Europe finished on Europe\n",
      "17 players from Europe finished on Asia-Pacific\n",
      "78 players from Asia-Pacific finished on Americas\n",
      "3 players from Asia-Pacific finished on Europe\n",
      "259 players from Asia-Pacific finished on Asia-Pacific\n"
     ]
    }
   ],
   "source": [
    "cross = {}\n",
    "for user in users.values():\n",
    "    for point in user['breakdown']:\n",
    "        if point['type']=='ladder' and point['points']>=4:\n",
    "            key = (user['region'], point['server'])\n",
    "            if key not in cross:\n",
    "                cross[key]=0\n",
    "            cross[key]+=1\n",
    "for a,b in itertools.product(['Americas', 'Europe', 'Asia-Pacific'],['Americas', 'Europe', 'Asia-Pacific']):\n",
    "    if (a,b) in cross:\n",
    "        print('{} players from {} finished on {}'.format(cross[(a,b)], a, b))"
   ]
  },
  {
   "cell_type": "code",
   "execution_count": 13,
   "metadata": {
    "collapsed": false
   },
   "outputs": [
    {
     "name": "stdout",
     "output_type": "stream",
     "text": [
      "The top 65 players from Americas\n",
      "earned an average of 8.907692307692308 points from opens\n",
      "The top 70 players from Europe\n",
      "earned an average of 10.371428571428572 points from opens\n",
      "The top 67 players from Asia-Pacific\n",
      "earned an average of 6.955223880597015 points from opens\n"
     ]
    }
   ],
   "source": [
    "regionFilter = lambda region: lambda user: user['region']==region\n",
    "for region in ['Americas', 'Europe', 'Asia-Pacific']:\n",
    "    filtered = list(filter(regionFilter(region), users.values()))\n",
    "    filtered.sort(key=lambda user:-user['points'])\n",
    "    num_users = 64\n",
    "    point_cutoff = filtered[num_users-1]['points']\n",
    "    filtered = list(filter(lambda x:x['points']>=point_cutoff, filtered))\n",
    "    print('The top {} players from {}'.format(len(filtered), region))\n",
    "    \n",
    "    count = 0\n",
    "    for user in filtered:\n",
    "        count+=sum([x['points'] for x in user['breakdown'] if x['type']=='open'])\n",
    "    print('earned an average of {} points from opens'.format(count/len(filtered)))"
   ]
  },
  {
   "cell_type": "code",
   "execution_count": 25,
   "metadata": {
    "collapsed": false
   },
   "outputs": [
    {
     "name": "stdout",
     "output_type": "stream",
     "text": [
      "The top 65 players from Americas\n",
      "earned an average of 10.307692307692308 points from ladder\n",
      "The top 70 players from Europe\n",
      "earned an average of 14.342857142857143 points from ladder\n",
      "The top 67 players from Asia-Pacific\n",
      "earned an average of 13.194029850746269 points from ladder\n"
     ]
    }
   ],
   "source": [
    "regionFilter = lambda region: lambda user: user['region']==region\n",
    "for region in ['Americas', 'Europe', 'Asia-Pacific']:\n",
    "    filtered = list(filter(regionFilter(region), users.values()))\n",
    "    filtered.sort(key=lambda user:-user['points'])\n",
    "    num_users = 64\n",
    "    point_cutoff = filtered[num_users-1]['points']\n",
    "    filtered = list(filter(lambda x:x['points']>=point_cutoff, filtered))\n",
    "    print('The top {} players from {}'.format(len(filtered), region))\n",
    "    \n",
    "    count = 0\n",
    "    for user in filtered:\n",
    "        count+=sum([x['points'] for x in user['breakdown'] if x['type']=='ladder'])\n",
    "    print('earned an average of {} points from ladder'.format(count/len(filtered)))"
   ]
  },
  {
   "cell_type": "code",
   "execution_count": 24,
   "metadata": {
    "collapsed": false
   },
   "outputs": [
    {
     "name": "stdout",
     "output_type": "stream",
     "text": [
      "The top 65 players from Americas\n",
      "earned an average of 1.2769230769230768 points from majors\n",
      "The top 70 players from Europe\n",
      "earned an average of 1.0142857142857142 points from majors\n",
      "The top 67 players from Asia-Pacific\n",
      "earned an average of 0.8805970149253731 points from majors\n"
     ]
    }
   ],
   "source": [
    "regionFilter = lambda region: lambda user: user['region']==region\n",
    "for region in ['Americas', 'Europe', 'Asia-Pacific']:\n",
    "    filtered = list(filter(regionFilter(region), users.values()))\n",
    "    filtered.sort(key=lambda user:-user['points'])\n",
    "    num_users = 64\n",
    "    point_cutoff = filtered[num_users-1]['points']\n",
    "    filtered = list(filter(lambda x:x['points']>=point_cutoff, filtered))\n",
    "    print('The top {} players from {}'.format(len(filtered), region))\n",
    "    \n",
    "    count = 0\n",
    "    for user in filtered:\n",
    "        count+=sum([x['points'] for x in user['breakdown'] if x['type']=='major'])\n",
    "    print('earned an average of {} points from majors'.format(count/len(filtered)))"
   ]
  },
  {
   "cell_type": "code",
   "execution_count": 46,
   "metadata": {
    "collapsed": false,
    "scrolled": true
   },
   "outputs": [
    {
     "name": "stdout",
     "output_type": "stream",
     "text": [
      "Of the top 65 players from Americas\n",
      "25 people requalified for prelims from spring\n",
      "Of the top 70 players from Europe\n",
      "24 people requalified for prelims from spring\n",
      "Of the top 67 players from Asia-Pacific\n",
      "36 people requalified for prelims from spring\n"
     ]
    }
   ],
   "source": [
    "regionFilter = lambda region: lambda user: user['region']==region\n",
    "for region in ['Americas', 'Europe', 'Asia-Pacific']:\n",
    "    filtered = list(filter(regionFilter(region), users.values()))\n",
    "    filtered.sort(key=lambda user:-user['points'])\n",
    "    num_users = 64\n",
    "    point_cutoff = filtered[num_users-1]['points']\n",
    "    filtered = list(filter(lambda x:x['points']>=point_cutoff, filtered))\n",
    "    print('Of the top {} players from {}'.format(len(filtered), region))\n",
    "    \n",
    "    count = 0\n",
    "    for user in filtered:\n",
    "        count+= sum([1 if x['type']=='playoff' else 0 for x in user['breakdown']])\n",
    "    print('{} people requalified for prelims from spring'.format(count))"
   ]
  },
  {
   "cell_type": "code",
   "execution_count": null,
   "metadata": {
    "collapsed": true
   },
   "outputs": [],
   "source": []
  }
 ],
 "metadata": {
  "kernelspec": {
   "display_name": "Python 3",
   "language": "python",
   "name": "python3"
  },
  "language_info": {
   "codemirror_mode": {
    "name": "ipython",
    "version": 3
   },
   "file_extension": ".py",
   "mimetype": "text/x-python",
   "name": "python",
   "nbconvert_exporter": "python",
   "pygments_lexer": "ipython3",
   "version": "3.4.5"
  }
 },
 "nbformat": 4,
 "nbformat_minor": 1
}
